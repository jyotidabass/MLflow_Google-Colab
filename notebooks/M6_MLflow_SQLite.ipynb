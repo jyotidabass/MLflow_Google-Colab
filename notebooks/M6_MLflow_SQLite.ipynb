{
  "nbformat": 4,
  "nbformat_minor": 0,
  "metadata": {
    "colab": {
      "provenance": [],
      "include_colab_link": true
    },
    "kernelspec": {
      "name": "python3",
      "display_name": "Python 3"
    }
  },
  "cells": [
    {
      "cell_type": "markdown",
      "metadata": {
        "id": "view-in-github",
        "colab_type": "text"
      },
      "source": [
        "<a href=\"https://colab.research.google.com/github/jyotidabass/MLflow_Google-Colab/blob/main/notebooks/M6_MLflow_SQLite.ipynb\" target=\"_parent\"><img src=\"https://colab.research.google.com/assets/colab-badge.svg\" alt=\"Open In Colab\"/></a>"
      ]
    },
    {
      "cell_type": "markdown",
      "source": [
        "![](https://ploomber.io/images/blog/mlflow2sql/header.png)"
      ],
      "metadata": {
        "id": "IB0gYTxiP7IN"
      }
    },
    {
      "cell_type": "markdown",
      "source": [
        "MLflow supports several tracking backend stores, including file systems, databases, object storage, and more. One of the supported database backends is SQLite. SQLite is a file-based database system that is lightweight and easy to use. It is also included with most operating systems, making it a popular choice for local development and testing.\n",
        "\n",
        "Using SQLite as the tracking backend for MLflow has several benefits, including:\n",
        "\n",
        "> It requires minimal setup and configuration, as it is file-based and does not require an external database server.\n",
        "\n",
        "> It is fast and efficient, making it a good choice for small to medium-scale ML projects.\n",
        "\n",
        "> It is well-suited for single-user or small team environments, as it does not support concurrent access or multiple users writing to the same database at the same time.\n",
        "\n",
        "To use SQLite as the tracking backend for MLflow, you simply need to set the MLflow tracking URI to the URI of the SQLite database file."
      ],
      "metadata": {
        "id": "j6aUHhljQPkG"
      }
    },
    {
      "cell_type": "code",
      "metadata": {
        "id": "-2qajaKpyvZW",
        "colab": {
          "base_uri": "https://localhost:8080/"
        },
        "outputId": "3e2b8095-5881-4817-c131-638448b181b8"
      },
      "source": [
        "!pip install mlflow --quiet"
      ],
      "execution_count": 1,
      "outputs": [
        {
          "output_type": "stream",
          "name": "stdout",
          "text": [
            "\u001b[2K     \u001b[90m━━━━━━━━━━━━━━━━━━━━━━━━━━━━━━━━━━━━━━━━\u001b[0m \u001b[32m19.5/19.5 MB\u001b[0m \u001b[31m28.7 MB/s\u001b[0m eta \u001b[36m0:00:00\u001b[0m\n",
            "\u001b[2K     \u001b[90m━━━━━━━━━━━━━━━━━━━━━━━━━━━━━━━━━━━━━━━━\u001b[0m \u001b[32m150.3/150.3 kB\u001b[0m \u001b[31m12.4 MB/s\u001b[0m eta \u001b[36m0:00:00\u001b[0m\n",
            "\u001b[2K     \u001b[90m━━━━━━━━━━━━━━━━━━━━━━━━━━━━━━━━━━━━━━━━\u001b[0m \u001b[32m196.4/196.4 kB\u001b[0m \u001b[31m13.4 MB/s\u001b[0m eta \u001b[36m0:00:00\u001b[0m\n",
            "\u001b[2K     \u001b[90m━━━━━━━━━━━━━━━━━━━━━━━━━━━━━━━━━━━━━━━━\u001b[0m \u001b[32m233.4/233.4 kB\u001b[0m \u001b[31m15.8 MB/s\u001b[0m eta \u001b[36m0:00:00\u001b[0m\n",
            "\u001b[2K     \u001b[90m━━━━━━━━━━━━━━━━━━━━━━━━━━━━━━━━━━━━━━━━\u001b[0m \u001b[32m147.6/147.6 kB\u001b[0m \u001b[31m7.2 MB/s\u001b[0m eta \u001b[36m0:00:00\u001b[0m\n",
            "\u001b[2K     \u001b[90m━━━━━━━━━━━━━━━━━━━━━━━━━━━━━━━━━━━━━━━━\u001b[0m \u001b[32m80.2/80.2 kB\u001b[0m \u001b[31m6.9 MB/s\u001b[0m eta \u001b[36m0:00:00\u001b[0m\n",
            "\u001b[2K     \u001b[90m━━━━━━━━━━━━━━━━━━━━━━━━━━━━━━━━━━━━━━━━\u001b[0m \u001b[32m78.6/78.6 kB\u001b[0m \u001b[31m7.1 MB/s\u001b[0m eta \u001b[36m0:00:00\u001b[0m\n",
            "\u001b[2K     \u001b[90m━━━━━━━━━━━━━━━━━━━━━━━━━━━━━━━━━━━━━━━━\u001b[0m \u001b[32m62.7/62.7 kB\u001b[0m \u001b[31m4.2 MB/s\u001b[0m eta \u001b[36m0:00:00\u001b[0m\n",
            "\u001b[?25h"
          ]
        }
      ]
    },
    {
      "cell_type": "markdown",
      "source": [
        "We will import several Python packages and sets the MLflow tracking server URI to be a local SQLite database. It also suppresses any warnings and prints the version of MLflow that is installed.\n",
        "\n"
      ],
      "metadata": {
        "id": "VsB80to9Ol5J"
      }
    },
    {
      "cell_type": "code",
      "metadata": {
        "id": "qBW83qrRym9Z"
      },
      "source": [
        "import os\n",
        "import shutil\n",
        "import pprint\n",
        "\n",
        "from random import random, randint\n",
        "import mlflow.sklearn\n",
        "from mlflow import log_metric, log_param, log_artifacts\n",
        "from sklearn.ensemble import RandomForestRegressor\n",
        "from mlflow.tracking import MlflowClient\n",
        "import warnings"
      ],
      "execution_count": 2,
      "outputs": []
    },
    {
      "cell_type": "code",
      "metadata": {
        "id": "TSrlV2qIzRRj",
        "colab": {
          "base_uri": "https://localhost:8080/"
        },
        "outputId": "bb6076e9-3e5c-46ae-8e80-a857d3a31d1a"
      },
      "source": [
        "warnings.filterwarnings(\"ignore\")\n",
        "print(mlflow.__version__)"
      ],
      "execution_count": 3,
      "outputs": [
        {
          "output_type": "stream",
          "name": "stdout",
          "text": [
            "2.10.0\n"
          ]
        }
      ]
    },
    {
      "cell_type": "markdown",
      "source": [
        "This cell loads the iris dataset, sets the MLflow tracking server URI to be a local SQLite database, trains a random forest classifier on the iris dataset, and logs the hyperparameters and accuracy metric to the MLflow tracking server. It also registers the trained model with the name \"iris-rf\" on the MLflow tracking server.\n"
      ],
      "metadata": {
        "id": "1uS2glfbO3Ds"
      }
    },
    {
      "cell_type": "code",
      "source": [
        "import mlflow\n",
        "from sklearn.datasets import load_iris\n",
        "from sklearn.model_selection import train_test_split\n",
        "from sklearn.ensemble import RandomForestClassifier\n",
        "\n",
        "# Load iris dataset\n",
        "iris = load_iris()\n",
        "X_train, X_test, y_train, y_test = train_test_split(iris.data, iris.target, test_size=0.2, random_state=42)\n",
        "\n",
        "# Set the tracking server to be localhost with sqlite as tracking store\n",
        "mlflow.set_tracking_uri(\"sqlite:///mlruns.db\")\n",
        "\n",
        "# Train a random forest classifier and log parameters and metrics\n",
        "with mlflow.start_run(run_name=\"iris-rf\") as run:\n",
        "    params = {\"n_estimators\": 100, \"max_depth\": 5}\n",
        "    clf = RandomForestClassifier(**params)\n",
        "    clf.fit(X_train, y_train)\n",
        "\n",
        "    mlflow.log_params(params)\n",
        "    mlflow.log_metric(\"accuracy\", clf.score(X_test, y_test))\n",
        "\n",
        "    # Log and register the model at the same time\n",
        "    mlflow.sklearn.log_model(clf, \"model\")\n",
        "    mlflow.sklearn.log_model(clf, \"model\", registered_model_name=\"iris-rf\")\n"
      ],
      "metadata": {
        "colab": {
          "base_uri": "https://localhost:8080/"
        },
        "id": "-4wr8Ig8Z85F",
        "outputId": "e732cff6-9269-4afa-f982-bdf6dcc0c7cb"
      },
      "execution_count": 4,
      "outputs": [
        {
          "output_type": "stream",
          "name": "stderr",
          "text": [
            "2024/01/29 08:30:17 INFO mlflow.store.db.utils: Creating initial MLflow database tables...\n",
            "2024/01/29 08:30:17 INFO mlflow.store.db.utils: Updating database tables\n",
            "INFO  [alembic.runtime.migration] Context impl SQLiteImpl.\n",
            "INFO  [alembic.runtime.migration] Will assume non-transactional DDL.\n",
            "INFO  [alembic.runtime.migration] Running upgrade  -> 451aebb31d03, add metric step\n",
            "INFO  [alembic.runtime.migration] Running upgrade 451aebb31d03 -> 90e64c465722, migrate user column to tags\n",
            "INFO  [alembic.runtime.migration] Running upgrade 90e64c465722 -> 181f10493468, allow nulls for metric values\n",
            "INFO  [alembic.runtime.migration] Running upgrade 181f10493468 -> df50e92ffc5e, Add Experiment Tags Table\n",
            "INFO  [alembic.runtime.migration] Running upgrade df50e92ffc5e -> 7ac759974ad8, Update run tags with larger limit\n",
            "INFO  [alembic.runtime.migration] Running upgrade 7ac759974ad8 -> 89d4b8295536, create latest metrics table\n",
            "INFO  [89d4b8295536_create_latest_metrics_table_py] Migration complete!\n",
            "INFO  [alembic.runtime.migration] Running upgrade 89d4b8295536 -> 2b4d017a5e9b, add model registry tables to db\n",
            "INFO  [2b4d017a5e9b_add_model_registry_tables_to_db_py] Adding registered_models and model_versions tables to database.\n",
            "INFO  [2b4d017a5e9b_add_model_registry_tables_to_db_py] Migration complete!\n",
            "INFO  [alembic.runtime.migration] Running upgrade 2b4d017a5e9b -> cfd24bdc0731, Update run status constraint with killed\n",
            "INFO  [alembic.runtime.migration] Running upgrade cfd24bdc0731 -> 0a8213491aaa, drop_duplicate_killed_constraint\n",
            "INFO  [alembic.runtime.migration] Running upgrade 0a8213491aaa -> 728d730b5ebd, add registered model tags table\n",
            "INFO  [alembic.runtime.migration] Running upgrade 728d730b5ebd -> 27a6a02d2cf1, add model version tags table\n",
            "INFO  [alembic.runtime.migration] Running upgrade 27a6a02d2cf1 -> 84291f40a231, add run_link to model_version\n",
            "INFO  [alembic.runtime.migration] Running upgrade 84291f40a231 -> a8c4a736bde6, allow nulls for run_id\n",
            "INFO  [alembic.runtime.migration] Running upgrade a8c4a736bde6 -> 39d1c3be5f05, add_is_nan_constraint_for_metrics_tables_if_necessary\n",
            "INFO  [alembic.runtime.migration] Running upgrade 39d1c3be5f05 -> c48cb773bb87, reset_default_value_for_is_nan_in_metrics_table_for_mysql\n",
            "INFO  [alembic.runtime.migration] Running upgrade c48cb773bb87 -> bd07f7e963c5, create index on run_uuid\n",
            "INFO  [alembic.runtime.migration] Running upgrade bd07f7e963c5 -> 0c779009ac13, add deleted_time field to runs table\n",
            "INFO  [alembic.runtime.migration] Running upgrade 0c779009ac13 -> cc1f77228345, change param value length to 500\n",
            "INFO  [alembic.runtime.migration] Running upgrade cc1f77228345 -> 97727af70f4d, Add creation_time and last_update_time to experiments table\n",
            "INFO  [alembic.runtime.migration] Running upgrade 97727af70f4d -> 3500859a5d39, Add Model Aliases table\n",
            "INFO  [alembic.runtime.migration] Running upgrade 3500859a5d39 -> 7f2a7d5fae7d, add datasets inputs input_tags tables\n",
            "INFO  [alembic.runtime.migration] Running upgrade 7f2a7d5fae7d -> 2d6e25af4d3e, increase max param val length from 500 to 8000\n",
            "INFO  [alembic.runtime.migration] Running upgrade 2d6e25af4d3e -> acf3f17fdcc7, add storage location field to model versions\n",
            "INFO  [alembic.runtime.migration] Context impl SQLiteImpl.\n",
            "INFO  [alembic.runtime.migration] Will assume non-transactional DDL.\n",
            "Successfully registered model 'iris-rf'.\n",
            "Created version '1' of model 'iris-rf'.\n"
          ]
        }
      ]
    },
    {
      "cell_type": "markdown",
      "source": [
        "Here we retrieve a list of all registered models from the MLflow tracking server and print their names and latest version numbers."
      ],
      "metadata": {
        "id": "6nqapEd2O86F"
      }
    },
    {
      "cell_type": "code",
      "source": [
        "import mlflow\n",
        "\n",
        "client = mlflow.tracking.MlflowClient()\n",
        "\n",
        "# Get a list of all registered models\n",
        "model_names = set()\n",
        "for mv in client.search_model_versions(\"\"):\n",
        "    model_name = mv.name\n",
        "    model_names.add(model_name)\n",
        "\n",
        "for model_name in model_names:\n",
        "    latest_version = client.get_latest_versions(model_name, stages=None)[0]\n",
        "    print(model_name, latest_version.version)\n"
      ],
      "metadata": {
        "colab": {
          "base_uri": "https://localhost:8080/"
        },
        "id": "DDXJ27TOPB3t",
        "outputId": "3d320cfb-e89a-4db0-af3a-c9636209f0f4"
      },
      "execution_count": 5,
      "outputs": [
        {
          "output_type": "stream",
          "name": "stdout",
          "text": [
            "iris-rf 1\n"
          ]
        }
      ]
    },
    {
      "cell_type": "markdown",
      "source": [
        "This cell starts the MLflow tracking UI server in the background on port 5000 with a SQLite database backend.\n"
      ],
      "metadata": {
        "id": "X4IpTXGcPYCR"
      }
    },
    {
      "cell_type": "code",
      "metadata": {
        "id": "znD1BRJe6V7c"
      },
      "source": [
        "# run tracking UI in the background\n",
        "get_ipython().system_raw(\"mlflow ui --backend-store-uri sqlite:///mlruns.db --port 5000 &\")# run tracking UI in the background"
      ],
      "execution_count": 6,
      "outputs": []
    },
    {
      "cell_type": "markdown",
      "source": [
        "We then install the Pyngrok package and set up an HTTPS tunnel using Ngrok to allow access to the MLflow tracking UI from a remote browser.\n"
      ],
      "metadata": {
        "id": "zpkn4EhiPZ6b"
      }
    },
    {
      "cell_type": "markdown",
      "source": [
        "After installing Pyngrok, the cell prompts the user to enter their Ngrok authtoken, which is required to create an HTTPS tunnel. Once the authtoken is set, it uses the ngrok.connect function to create the tunnel, and prints the public URL that can be used to access the MLflow tracking UI.\n",
        "\n"
      ],
      "metadata": {
        "id": "GQZbZW6-PmVJ"
      }
    },
    {
      "cell_type": "code",
      "metadata": {
        "id": "eQT8Jgkc6c_6",
        "colab": {
          "base_uri": "https://localhost:8080/"
        },
        "outputId": "f265e2c3-fe1c-4ba0-b439-0bb681873e65"
      },
      "source": [
        "# create remote tunnel using ngrok.com to allow local port access\n",
        "# borrowed from https://colab.research.google.com/github/alfozan/MLflow-GBRT-demo/blob/master/MLflow-GBRT-demo.ipynb#scrollTo=4h3bKHMYUIG6\n",
        "!pip install pyngrok --quiet\n",
        "from pyngrok import ngrok\n",
        "from getpass import getpass\n",
        "\n",
        "\n",
        "# Terminate open tunnels if exist\n",
        "ngrok.kill()\n",
        "\n",
        "# Setting the authtoken (optional)\n",
        "# Get your authtoken from https://dashboard.ngrok.com/auth\n",
        "NGROK_AUTH_TOKEN = getpass('Enter the ngrok authtoken: ')\n",
        "ngrok.set_auth_token(NGROK_AUTH_TOKEN)\n",
        "\n",
        "ngrok_tunnel = ngrok.connect(addr=\"5000\", proto=\"http\", bind_tls=True)\n",
        "print(\"MLflow Tracking UI:\", ngrok_tunnel.public_url)"
      ],
      "execution_count": 7,
      "outputs": [
        {
          "output_type": "stream",
          "name": "stdout",
          "text": [
            "Enter the ngrok authtoken: ··········\n",
            "MLflow Tracking UI: https://c85c-35-227-24-105.ngrok-free.app\n"
          ]
        }
      ]
    },
    {
      "cell_type": "markdown",
      "source": [
        "Finally, the cell connects to the SQLite database used by the MLflow tracking server and executes two SQL queries to retrieve the names of all tables and all parameter values, and prints the results.\n",
        "\n"
      ],
      "metadata": {
        "id": "Vth8G6-8Pp61"
      }
    },
    {
      "cell_type": "code",
      "metadata": {
        "id": "Nx3i5ORB65Qa",
        "colab": {
          "base_uri": "https://localhost:8080/"
        },
        "outputId": "91d299d6-3e5a-4b03-f87e-10e9a788109a"
      },
      "source": [
        "import sqlite3\n",
        "\n",
        "# Connect to the SQLite database\n",
        "conn = sqlite3.connect(\"/content/mlruns.db\")\n",
        "\n",
        "# Execute a query and print the results\n",
        "cursor = conn.execute(\"SELECT name FROM sqlite_master WHERE type='table'\")\n",
        "for row in cursor:\n",
        "    print(row[0])\n"
      ],
      "execution_count": 8,
      "outputs": [
        {
          "output_type": "stream",
          "name": "stdout",
          "text": [
            "experiments\n",
            "alembic_version\n",
            "experiment_tags\n",
            "tags\n",
            "registered_models\n",
            "runs\n",
            "registered_model_tags\n",
            "model_version_tags\n",
            "model_versions\n",
            "latest_metrics\n",
            "metrics\n",
            "registered_model_aliases\n",
            "datasets\n",
            "inputs\n",
            "input_tags\n",
            "params\n"
          ]
        }
      ]
    },
    {
      "cell_type": "code",
      "source": [
        "# Execute a query and print the results\n",
        "cursor = conn.execute(\"SELECT * FROM params\")\n",
        "for row in cursor:\n",
        "    print(row)"
      ],
      "metadata": {
        "id": "Pgjr8fLJkoAs",
        "outputId": "b2686eaa-ea9e-4368-fd5b-d167b3fc6b24",
        "colab": {
          "base_uri": "https://localhost:8080/"
        }
      },
      "execution_count": 9,
      "outputs": [
        {
          "output_type": "stream",
          "name": "stdout",
          "text": [
            "('n_estimators', '100', 'd1e67bdb5ee0409a9a86de1bd6687ef8')\n",
            "('max_depth', '5', 'd1e67bdb5ee0409a9a86de1bd6687ef8')\n"
          ]
        }
      ]
    },
    {
      "cell_type": "markdown",
      "source": [
        "<img src=\"https://raw.githubusercontent.com/aaubs/ds-master/main/data/Images/Exercise.png\" width=\"600\">"
      ],
      "metadata": {
        "id": "hZFo8jCGZgQF"
      }
    },
    {
      "cell_type": "code",
      "source": [],
      "metadata": {
        "id": "noXF3Zweku-A"
      },
      "execution_count": 9,
      "outputs": []
    }
  ]
}