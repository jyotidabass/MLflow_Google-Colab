{
  "nbformat": 4,
  "nbformat_minor": 0,
  "metadata": {
    "colab": {
      "provenance": [],
      "include_colab_link": true
    },
    "kernelspec": {
      "name": "python3",
      "display_name": "Python 3"
    },
    "language_info": {
      "name": "python"
    }
  },
  "cells": [
    {
      "cell_type": "markdown",
      "metadata": {
        "id": "view-in-github",
        "colab_type": "text"
      },
      "source": [
        "<a href=\"https://colab.research.google.com/github/jyotidabass/MLflow_Google-Colab/blob/main/notebooks/M6_MLflow_intro.ipynb\" target=\"_parent\"><img src=\"https://colab.research.google.com/assets/colab-badge.svg\" alt=\"Open In Colab\"/></a>"
      ]
    },
    {
      "cell_type": "markdown",
      "source": [
        "MLflow is an open-source platform for managing the end-to-end machine learning lifecycle. It provides tools for tracking experiments, packaging and sharing code, and deploying models.\n",
        "\n",
        "MLflow provides a unified platform for managing the entire machine learning lifecycle, from experimentation to deployment. It helps to increase productivity, collaboration, and reproducibility in data science projects."
      ],
      "metadata": {
        "id": "Z2N3wsFADoo9"
      }
    },
    {
      "cell_type": "markdown",
      "source": [
        "Here are the main components of MLflow:\n",
        "\n",
        "> 1. Experiment Tracking: This component helps you to track your machine learning experiments by recording and visualizing metrics, parameters, and artifacts. It allows you to easily compare different runs and reproduce results.\n",
        "\n",
        "> 2. Model Packaging: This component provides a simple format for packaging data science code in a reusable and reproducible way. It also allows you to specify dependencies, such as libraries and data files, and to run code in different environments. This component provides a standardized way to package and deploy machine learning models. It supports a variety of popular frameworks, such as TensorFlow, PyTorch, and Scikit-learn, and provides tools for deploying models to a variety of platforms, such as Docker containers and cloud services.\n",
        "\n",
        "> 3. Model Registry: This component provides a centralized repository for managing and sharing machine learning models. It allows you to track model versions, assign permissions, and share models with other users."
      ],
      "metadata": {
        "id": "zAEAcF4PD4pJ"
      }
    },
    {
      "cell_type": "markdown",
      "source": [
        "###Experiment Tracking:\n"
      ],
      "metadata": {
        "id": "ZpQrCEVrUj0c"
      }
    },
    {
      "cell_type": "code",
      "source": [
        "!pip install mlflow --q"
      ],
      "metadata": {
        "colab": {
          "base_uri": "https://localhost:8080/"
        },
        "id": "OQnyRBkdUnq_",
        "outputId": "32f718e3-f7c5-4fb9-b314-500c7d41a398"
      },
      "execution_count": 1,
      "outputs": [
        {
          "output_type": "stream",
          "name": "stdout",
          "text": [
            "\u001b[2K     \u001b[90m━━━━━━━━━━━━━━━━━━━━━━━━━━━━━━━━━━━━━━━━\u001b[0m \u001b[32m19.5/19.5 MB\u001b[0m \u001b[31m24.8 MB/s\u001b[0m eta \u001b[36m0:00:00\u001b[0m\n",
            "\u001b[2K     \u001b[90m━━━━━━━━━━━━━━━━━━━━━━━━━━━━━━━━━━━━━━━━\u001b[0m \u001b[32m150.3/150.3 kB\u001b[0m \u001b[31m13.8 MB/s\u001b[0m eta \u001b[36m0:00:00\u001b[0m\n",
            "\u001b[2K     \u001b[90m━━━━━━━━━━━━━━━━━━━━━━━━━━━━━━━━━━━━━━━━\u001b[0m \u001b[32m196.4/196.4 kB\u001b[0m \u001b[31m14.9 MB/s\u001b[0m eta \u001b[36m0:00:00\u001b[0m\n",
            "\u001b[2K     \u001b[90m━━━━━━━━━━━━━━━━━━━━━━━━━━━━━━━━━━━━━━━━\u001b[0m \u001b[32m233.4/233.4 kB\u001b[0m \u001b[31m19.1 MB/s\u001b[0m eta \u001b[36m0:00:00\u001b[0m\n",
            "\u001b[2K     \u001b[90m━━━━━━━━━━━━━━━━━━━━━━━━━━━━━━━━━━━━━━━━\u001b[0m \u001b[32m147.6/147.6 kB\u001b[0m \u001b[31m16.4 MB/s\u001b[0m eta \u001b[36m0:00:00\u001b[0m\n",
            "\u001b[2K     \u001b[90m━━━━━━━━━━━━━━━━━━━━━━━━━━━━━━━━━━━━━━━━\u001b[0m \u001b[32m80.2/80.2 kB\u001b[0m \u001b[31m10.2 MB/s\u001b[0m eta \u001b[36m0:00:00\u001b[0m\n",
            "\u001b[2K     \u001b[90m━━━━━━━━━━━━━━━━━━━━━━━━━━━━━━━━━━━━━━━━\u001b[0m \u001b[32m78.6/78.6 kB\u001b[0m \u001b[31m6.8 MB/s\u001b[0m eta \u001b[36m0:00:00\u001b[0m\n",
            "\u001b[2K     \u001b[90m━━━━━━━━━━━━━━━━━━━━━━━━━━━━━━━━━━━━━━━━\u001b[0m \u001b[32m62.7/62.7 kB\u001b[0m \u001b[31m5.3 MB/s\u001b[0m eta \u001b[36m0:00:00\u001b[0m\n",
            "\u001b[?25h"
          ]
        }
      ]
    },
    {
      "cell_type": "code",
      "source": [
        "import mlflow\n",
        "import numpy as np\n",
        "import pandas as pd\n",
        "from sklearn.metrics import mean_squared_error\n",
        "from sklearn.linear_model import Ridge\n",
        "\n",
        "mlflow.set_experiment('BostonHousing')\n",
        "\n",
        "# Start an MLflow run\n",
        "mlflow.start_run(run_name=\"run_2\", nested=True)\n",
        "\n",
        "# Log parameters\n",
        "mlflow.log_param(\"alpha\", 0.5)\n",
        "\n",
        "# Load data\n",
        "data = pd.read_csv(\"https://raw.githubusercontent.com/selva86/datasets/master/BostonHousing.csv\")\n",
        "\n",
        "# Split data into features and target\n",
        "X = data.drop(\"medv\", axis=1)\n",
        "y = data[\"medv\"]\n",
        "\n",
        "# Train a Ridge regression model\n",
        "model = Ridge(alpha=0.5)\n",
        "model.fit(X, y)\n",
        "\n",
        "# Log metrics\n",
        "y_pred = model.predict(X)\n",
        "mse = mean_squared_error(y, y_pred)\n",
        "mlflow.log_metric(\"mse\", mse)\n"
      ],
      "metadata": {
        "colab": {
          "base_uri": "https://localhost:8080/"
        },
        "id": "xwvVXxvhcYnh",
        "outputId": "f6470adb-4bfc-4864-9ee2-a6cada0e2049"
      },
      "execution_count": 2,
      "outputs": [
        {
          "output_type": "stream",
          "name": "stderr",
          "text": [
            "2024/01/29 08:02:24 INFO mlflow.tracking.fluent: Experiment with name 'BostonHousing' does not exist. Creating a new experiment.\n"
          ]
        }
      ]
    },
    {
      "cell_type": "markdown",
      "source": [
        "In MLflow, an experiment is a named container for a set of runs. A run is a single execution of a machine learning training or inference process."
      ],
      "metadata": {
        "id": "VOON8Bx8HmXq"
      }
    },
    {
      "cell_type": "markdown",
      "source": [
        "###Model Packaging:\n"
      ],
      "metadata": {
        "id": "pZVqJreoVmmQ"
      }
    },
    {
      "cell_type": "code",
      "source": [
        "# Save the model\n",
        "mlflow.sklearn.save_model(model, \"model\")\n",
        "\n",
        "# End the MLflow run\n",
        "# mlflow.end_run()"
      ],
      "metadata": {
        "id": "A-V8q-1kUsmg",
        "outputId": "43796e2e-b6cb-4a75-a869-64ee72bf916a",
        "colab": {
          "base_uri": "https://localhost:8080/"
        }
      },
      "execution_count": 3,
      "outputs": [
        {
          "output_type": "stream",
          "name": "stderr",
          "text": [
            "/usr/local/lib/python3.10/dist-packages/_distutils_hack/__init__.py:33: UserWarning: Setuptools is replacing distutils.\n",
            "  warnings.warn(\"Setuptools is replacing distutils.\")\n"
          ]
        }
      ]
    },
    {
      "cell_type": "markdown",
      "source": [
        "####Model Registry:\n"
      ],
      "metadata": {
        "id": "i3HuKlzqVz1v"
      }
    },
    {
      "cell_type": "code",
      "source": [
        "# Register the model in the MLflow registry\n",
        "run_id_active = mlflow.active_run().info.run_id\n",
        "model_uri = \"runs:/\" + run_id_active + \"/model\"\n",
        "model_version = mlflow.register_model(model_uri, \"MyModel\")"
      ],
      "metadata": {
        "colab": {
          "base_uri": "https://localhost:8080/"
        },
        "id": "sxZpPHKCVzfq",
        "outputId": "0de01b6d-c582-4cbe-bcea-dda1112b2636"
      },
      "execution_count": 4,
      "outputs": [
        {
          "output_type": "stream",
          "name": "stderr",
          "text": [
            "Successfully registered model 'MyModel'.\n",
            "Created version '1' of model 'MyModel'.\n"
          ]
        }
      ]
    },
    {
      "cell_type": "code",
      "source": [
        "!mlflow experiments search -v all"
      ],
      "metadata": {
        "colab": {
          "base_uri": "https://localhost:8080/"
        },
        "id": "hiXPz2xReNE8",
        "outputId": "17fb5fa0-504a-4add-c6af-1fdbe1a5daa7"
      },
      "execution_count": 5,
      "outputs": [
        {
          "output_type": "stream",
          "name": "stdout",
          "text": [
            "Experiment Id       Name           Artifact Location                        \n",
            "------------------  -------------  -----------------------------------------\n",
            "0                   Default        file:///content/mlruns/0                 \n",
            "853133631781260839  BostonHousing  file:///content/mlruns/853133631781260839\n"
          ]
        }
      ]
    },
    {
      "cell_type": "code",
      "source": [
        "import mlflow\n",
        "\n",
        "# Set the name of the experiment\n",
        "experiment_name = \"BostonHousing\"\n",
        "\n",
        "# Get the experiment ID for the experiment with the specified name\n",
        "experiment_id = mlflow.get_experiment_by_name(experiment_name).experiment_id\n",
        "\n",
        "# Search for runs associated with the experiment ID\n",
        "runs = mlflow.search_runs(experiment_ids=experiment_id)\n",
        "\n",
        "# # Print information about each run\n",
        "# for run in runs:\n",
        "#     print(f\"Run {run.info.run_id} completed at {run.info.end_time} with status {run.info.status}\")\n"
      ],
      "metadata": {
        "id": "OVgCT8inLeyt"
      },
      "execution_count": 6,
      "outputs": []
    },
    {
      "cell_type": "code",
      "source": [
        "runs"
      ],
      "metadata": {
        "id": "NC2qrUnCLm8d",
        "outputId": "f85f974d-a095-45f6-ff87-5c4f831cc82c",
        "colab": {
          "base_uri": "https://localhost:8080/",
          "height": 118
        }
      },
      "execution_count": 7,
      "outputs": [
        {
          "output_type": "execute_result",
          "data": {
            "text/plain": [
              "                             run_id       experiment_id   status  \\\n",
              "0  1b9642e98ebe40ccb43d53b26eda26aa  853133631781260839  RUNNING   \n",
              "\n",
              "                                        artifact_uri  \\\n",
              "0  file:///content/mlruns/853133631781260839/1b96...   \n",
              "\n",
              "                        start_time end_time  metrics.mse params.alpha  \\\n",
              "0 2024-01-29 08:02:24.679000+00:00     None    21.952713          0.5   \n",
              "\n",
              "  tags.mlflow.user tags.mlflow.source.type tags.mlflow.runName  \\\n",
              "0             root                   LOCAL               run_2   \n",
              "\n",
              "                             tags.mlflow.source.name  \n",
              "0  /usr/local/lib/python3.10/dist-packages/colab_...  "
            ],
            "text/html": [
              "\n",
              "  <div id=\"df-70273bda-7e70-465d-91f3-76b2ff815d10\" class=\"colab-df-container\">\n",
              "    <div>\n",
              "<style scoped>\n",
              "    .dataframe tbody tr th:only-of-type {\n",
              "        vertical-align: middle;\n",
              "    }\n",
              "\n",
              "    .dataframe tbody tr th {\n",
              "        vertical-align: top;\n",
              "    }\n",
              "\n",
              "    .dataframe thead th {\n",
              "        text-align: right;\n",
              "    }\n",
              "</style>\n",
              "<table border=\"1\" class=\"dataframe\">\n",
              "  <thead>\n",
              "    <tr style=\"text-align: right;\">\n",
              "      <th></th>\n",
              "      <th>run_id</th>\n",
              "      <th>experiment_id</th>\n",
              "      <th>status</th>\n",
              "      <th>artifact_uri</th>\n",
              "      <th>start_time</th>\n",
              "      <th>end_time</th>\n",
              "      <th>metrics.mse</th>\n",
              "      <th>params.alpha</th>\n",
              "      <th>tags.mlflow.user</th>\n",
              "      <th>tags.mlflow.source.type</th>\n",
              "      <th>tags.mlflow.runName</th>\n",
              "      <th>tags.mlflow.source.name</th>\n",
              "    </tr>\n",
              "  </thead>\n",
              "  <tbody>\n",
              "    <tr>\n",
              "      <th>0</th>\n",
              "      <td>1b9642e98ebe40ccb43d53b26eda26aa</td>\n",
              "      <td>853133631781260839</td>\n",
              "      <td>RUNNING</td>\n",
              "      <td>file:///content/mlruns/853133631781260839/1b96...</td>\n",
              "      <td>2024-01-29 08:02:24.679000+00:00</td>\n",
              "      <td>None</td>\n",
              "      <td>21.952713</td>\n",
              "      <td>0.5</td>\n",
              "      <td>root</td>\n",
              "      <td>LOCAL</td>\n",
              "      <td>run_2</td>\n",
              "      <td>/usr/local/lib/python3.10/dist-packages/colab_...</td>\n",
              "    </tr>\n",
              "  </tbody>\n",
              "</table>\n",
              "</div>\n",
              "    <div class=\"colab-df-buttons\">\n",
              "\n",
              "  <div class=\"colab-df-container\">\n",
              "    <button class=\"colab-df-convert\" onclick=\"convertToInteractive('df-70273bda-7e70-465d-91f3-76b2ff815d10')\"\n",
              "            title=\"Convert this dataframe to an interactive table.\"\n",
              "            style=\"display:none;\">\n",
              "\n",
              "  <svg xmlns=\"http://www.w3.org/2000/svg\" height=\"24px\" viewBox=\"0 -960 960 960\">\n",
              "    <path d=\"M120-120v-720h720v720H120Zm60-500h600v-160H180v160Zm220 220h160v-160H400v160Zm0 220h160v-160H400v160ZM180-400h160v-160H180v160Zm440 0h160v-160H620v160ZM180-180h160v-160H180v160Zm440 0h160v-160H620v160Z\"/>\n",
              "  </svg>\n",
              "    </button>\n",
              "\n",
              "  <style>\n",
              "    .colab-df-container {\n",
              "      display:flex;\n",
              "      gap: 12px;\n",
              "    }\n",
              "\n",
              "    .colab-df-convert {\n",
              "      background-color: #E8F0FE;\n",
              "      border: none;\n",
              "      border-radius: 50%;\n",
              "      cursor: pointer;\n",
              "      display: none;\n",
              "      fill: #1967D2;\n",
              "      height: 32px;\n",
              "      padding: 0 0 0 0;\n",
              "      width: 32px;\n",
              "    }\n",
              "\n",
              "    .colab-df-convert:hover {\n",
              "      background-color: #E2EBFA;\n",
              "      box-shadow: 0px 1px 2px rgba(60, 64, 67, 0.3), 0px 1px 3px 1px rgba(60, 64, 67, 0.15);\n",
              "      fill: #174EA6;\n",
              "    }\n",
              "\n",
              "    .colab-df-buttons div {\n",
              "      margin-bottom: 4px;\n",
              "    }\n",
              "\n",
              "    [theme=dark] .colab-df-convert {\n",
              "      background-color: #3B4455;\n",
              "      fill: #D2E3FC;\n",
              "    }\n",
              "\n",
              "    [theme=dark] .colab-df-convert:hover {\n",
              "      background-color: #434B5C;\n",
              "      box-shadow: 0px 1px 3px 1px rgba(0, 0, 0, 0.15);\n",
              "      filter: drop-shadow(0px 1px 2px rgba(0, 0, 0, 0.3));\n",
              "      fill: #FFFFFF;\n",
              "    }\n",
              "  </style>\n",
              "\n",
              "    <script>\n",
              "      const buttonEl =\n",
              "        document.querySelector('#df-70273bda-7e70-465d-91f3-76b2ff815d10 button.colab-df-convert');\n",
              "      buttonEl.style.display =\n",
              "        google.colab.kernel.accessAllowed ? 'block' : 'none';\n",
              "\n",
              "      async function convertToInteractive(key) {\n",
              "        const element = document.querySelector('#df-70273bda-7e70-465d-91f3-76b2ff815d10');\n",
              "        const dataTable =\n",
              "          await google.colab.kernel.invokeFunction('convertToInteractive',\n",
              "                                                    [key], {});\n",
              "        if (!dataTable) return;\n",
              "\n",
              "        const docLinkHtml = 'Like what you see? Visit the ' +\n",
              "          '<a target=\"_blank\" href=https://colab.research.google.com/notebooks/data_table.ipynb>data table notebook</a>'\n",
              "          + ' to learn more about interactive tables.';\n",
              "        element.innerHTML = '';\n",
              "        dataTable['output_type'] = 'display_data';\n",
              "        await google.colab.output.renderOutput(dataTable, element);\n",
              "        const docLink = document.createElement('div');\n",
              "        docLink.innerHTML = docLinkHtml;\n",
              "        element.appendChild(docLink);\n",
              "      }\n",
              "    </script>\n",
              "  </div>\n",
              "\n",
              "\n",
              "  <div id=\"id_ed98313a-48cd-4d92-a50e-f042c898a1d3\">\n",
              "    <style>\n",
              "      .colab-df-generate {\n",
              "        background-color: #E8F0FE;\n",
              "        border: none;\n",
              "        border-radius: 50%;\n",
              "        cursor: pointer;\n",
              "        display: none;\n",
              "        fill: #1967D2;\n",
              "        height: 32px;\n",
              "        padding: 0 0 0 0;\n",
              "        width: 32px;\n",
              "      }\n",
              "\n",
              "      .colab-df-generate:hover {\n",
              "        background-color: #E2EBFA;\n",
              "        box-shadow: 0px 1px 2px rgba(60, 64, 67, 0.3), 0px 1px 3px 1px rgba(60, 64, 67, 0.15);\n",
              "        fill: #174EA6;\n",
              "      }\n",
              "\n",
              "      [theme=dark] .colab-df-generate {\n",
              "        background-color: #3B4455;\n",
              "        fill: #D2E3FC;\n",
              "      }\n",
              "\n",
              "      [theme=dark] .colab-df-generate:hover {\n",
              "        background-color: #434B5C;\n",
              "        box-shadow: 0px 1px 3px 1px rgba(0, 0, 0, 0.15);\n",
              "        filter: drop-shadow(0px 1px 2px rgba(0, 0, 0, 0.3));\n",
              "        fill: #FFFFFF;\n",
              "      }\n",
              "    </style>\n",
              "    <button class=\"colab-df-generate\" onclick=\"generateWithVariable('runs')\"\n",
              "            title=\"Generate code using this dataframe.\"\n",
              "            style=\"display:none;\">\n",
              "\n",
              "  <svg xmlns=\"http://www.w3.org/2000/svg\" height=\"24px\"viewBox=\"0 0 24 24\"\n",
              "       width=\"24px\">\n",
              "    <path d=\"M7,19H8.4L18.45,9,17,7.55,7,17.6ZM5,21V16.75L18.45,3.32a2,2,0,0,1,2.83,0l1.4,1.43a1.91,1.91,0,0,1,.58,1.4,1.91,1.91,0,0,1-.58,1.4L9.25,21ZM18.45,9,17,7.55Zm-12,3A5.31,5.31,0,0,0,4.9,8.1,5.31,5.31,0,0,0,1,6.5,5.31,5.31,0,0,0,4.9,4.9,5.31,5.31,0,0,0,6.5,1,5.31,5.31,0,0,0,8.1,4.9,5.31,5.31,0,0,0,12,6.5,5.46,5.46,0,0,0,6.5,12Z\"/>\n",
              "  </svg>\n",
              "    </button>\n",
              "    <script>\n",
              "      (() => {\n",
              "      const buttonEl =\n",
              "        document.querySelector('#id_ed98313a-48cd-4d92-a50e-f042c898a1d3 button.colab-df-generate');\n",
              "      buttonEl.style.display =\n",
              "        google.colab.kernel.accessAllowed ? 'block' : 'none';\n",
              "\n",
              "      buttonEl.onclick = () => {\n",
              "        google.colab.notebook.generateWithVariable('runs');\n",
              "      }\n",
              "      })();\n",
              "    </script>\n",
              "  </div>\n",
              "\n",
              "    </div>\n",
              "  </div>\n"
            ]
          },
          "metadata": {},
          "execution_count": 7
        }
      ]
    },
    {
      "cell_type": "code",
      "source": [
        "import mlflow.pyfunc\n",
        "\n",
        "# Load the model from the registry\n",
        "\n",
        "model_uri = '/content/model'\n",
        "loaded_model = mlflow.pyfunc.load_model(model_uri)"
      ],
      "metadata": {
        "id": "v6LgbeBpV577"
      },
      "execution_count": 8,
      "outputs": []
    },
    {
      "cell_type": "code",
      "source": [
        "import mlflow\n",
        "\n",
        "print(mlflow.__version__)"
      ],
      "metadata": {
        "colab": {
          "base_uri": "https://localhost:8080/"
        },
        "id": "i4-MBHQ-kovK",
        "outputId": "d7ed091d-0248-4783-b8be-2a3afe673621"
      },
      "execution_count": 9,
      "outputs": [
        {
          "output_type": "stream",
          "name": "stdout",
          "text": [
            "2.10.0\n"
          ]
        }
      ]
    },
    {
      "cell_type": "code",
      "source": [
        "!mlflow deployments --help"
      ],
      "metadata": {
        "colab": {
          "base_uri": "https://localhost:8080/"
        },
        "id": "LJy37KZjk9L-",
        "outputId": "0aae69aa-e400-4c97-d1d2-f3aa7b034a2d"
      },
      "execution_count": 10,
      "outputs": [
        {
          "output_type": "stream",
          "name": "stdout",
          "text": [
            "Usage: mlflow deployments [OPTIONS] COMMAND [ARGS]...\n",
            "\n",
            "  Deploy MLflow models to custom targets. Run `mlflow deployments help\n",
            "  --target-name <target-name>` for more details on the supported URI format\n",
            "  and config options for a given target. Support is currently installed for\n",
            "  deployment to: databricks, http, https, openai, sagemaker\n",
            "\n",
            "  See all supported deployment targets and installation instructions in\n",
            "  https://mlflow.org/docs/latest/plugins.html#community-plugins\n",
            "\n",
            "  You can also write your own plugin for deployment to a custom target. For\n",
            "  instructions on writing and distributing a plugin, see\n",
            "  https://mlflow.org/docs/latest/plugins.html#writing-your-own-mlflow-plugins.\n",
            "\n",
            "Options:\n",
            "  --help  Show this message and exit.\n",
            "\n",
            "Commands:\n",
            "  create           Deploy the model at ``model_uri`` to the specified...\n",
            "  create-endpoint  Create an endpoint with the specified name at the...\n",
            "  delete           Delete the deployment with name given at `--name` from...\n",
            "  delete-endpoint  Delete the specified endpoint at the specified target\n",
            "  explain          Generate explanations of model predictions on the...\n",
            "  get              Print a detailed description of the deployment with...\n",
            "  get-endpoint     Get details for the specified endpoint at the...\n",
            "  help             Display additional help for a specific deployment...\n",
            "  list             List the names of all model deployments in the...\n",
            "  list-endpoints   List all endpoints at the specified target\n",
            "  predict          Predict the results for the deployed model for the...\n",
            "  run-local        Deploy the model locally.\n",
            "  start-server     Start the MLflow Deployments server\n",
            "  update           Update the deployment with ID `deployment_id` in the...\n",
            "  update-endpoint  Update the specified endpoint at the specified target.\n"
          ]
        }
      ]
    },
    {
      "cell_type": "code",
      "source": [
        "# mlflow.create_experiment('BostonHousing')\n",
        "# # Get the experiment ID for the experiment with the specified name\n",
        "# experiment_id = mlflow.get_experiment_by_name('BostonHousing').experiment_id\n",
        "# experiment_id = experiment.experiment_id\n",
        "\n",
        "# # Search for runs in the experiment and sort them by start time\n",
        "# runs = mlflow.search_runs(experiment_ids=[experiment_id], order_by=[\"start_time desc\"])\n",
        "\n",
        "# # Get the run ID of the most recent run\n",
        "# run_id = runs.iloc[0][\"run_id\"]"
      ],
      "metadata": {
        "id": "HFH2BDXg1n6W"
      },
      "execution_count": 11,
      "outputs": []
    }
  ]
}