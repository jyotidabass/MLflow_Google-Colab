{
  "nbformat": 4,
  "nbformat_minor": 0,
  "metadata": {
    "colab": {
      "name": "mlflow_issue_3030.ipynb",
      "provenance": [],
      "authorship_tag": "ABX9TyP7n4Aaa5PLtop5AUTH/USl",
      "include_colab_link": true
    },
    "kernelspec": {
      "name": "python3",
      "display_name": "Python 3"
    }
  },
  "cells": [
    {
      "cell_type": "markdown",
      "metadata": {
        "id": "view-in-github",
        "colab_type": "text"
      },
      "source": [
        "<a href=\"https://colab.research.google.com/github/dmatrix/google-colab/blob/master/mlflow_issue_3030.ipynb\" target=\"_parent\"><img src=\"https://colab.research.google.com/assets/colab-badge.svg\" alt=\"Open In Colab\"/></a>"
      ]
    },
    {
      "cell_type": "code",
      "metadata": {
        "id": "IqPPUbupcywE",
        "colab_type": "code",
        "colab": {
          "base_uri": "https://localhost:8080/",
          "height": 173
        },
        "outputId": "90afb405-f42f-45e1-8676-70f161c1cb91"
      },
      "source": [
        "!pip install mlflow --qiuet"
      ],
      "execution_count": 1,
      "outputs": [
        {
          "output_type": "stream",
          "text": [
            "\n",
            "Usage:   \n",
            "  pip3 install [options] <requirement specifier> [package-index-options] ...\n",
            "  pip3 install [options] -r <requirements file> [package-index-options] ...\n",
            "  pip3 install [options] [-e] <vcs project url> ...\n",
            "  pip3 install [options] [-e] <local project path> ...\n",
            "  pip3 install [options] <archive url/path> ...\n",
            "\n",
            "no such option: --qiuet\n"
          ],
          "name": "stdout"
        }
      ]
    },
    {
      "cell_type": "code",
      "metadata": {
        "id": "NuQ784wJc25J",
        "colab_type": "code",
        "colab": {
          "base_uri": "https://localhost:8080/",
          "height": 52
        },
        "outputId": "72660fbb-c706-4352-d517-e1c83e3f8d7b"
      },
      "source": [
        "import mlflow\n",
        "import joblib\n",
        "\n",
        "with open('test.file', 'wb') as f:\n",
        "  test = range(20)\n",
        "  joblib.dump(test, f)\n",
        "\n",
        "with mlflow.start_run() as run:\n",
        "  run_id = run.run_id = run.info.run_uuid\n",
        "  mlflow.log_artifact('test.file')\n",
        "  print(f\"artifact_uri={mlflow.get_artifact_uri()}\")\n",
        "  print(f\"run_id={run_id}\")\n"
      ],
      "execution_count": null,
      "outputs": [
        {
          "output_type": "stream",
          "text": [
            "artifact_uri=file:///content/mlruns/0/0ac37c321cf4426cbbbf8df4b27c31a6/artifacts\n",
            "run_id=0ac37c321cf4426cbbbf8df4b27c31a6\n"
          ],
          "name": "stdout"
        }
      ]
    },
    {
      "cell_type": "markdown",
      "metadata": {
        "id": "SXBfsCSE35mP",
        "colab_type": "text"
      },
      "source": [
        "### Start MLflow Experiments tracking UI"
      ]
    },
    {
      "cell_type": "code",
      "metadata": {
        "id": "J3ZvxGiudDcS",
        "colab_type": "code",
        "colab": {}
      },
      "source": [
        "# run tracking UI in the background\n",
        "get_ipython().system_raw(\"mlflow ui --port 5000 &\")"
      ],
      "execution_count": 11,
      "outputs": []
    },
    {
      "cell_type": "markdown",
      "metadata": {
        "id": "Q0cppOZu4RuD",
        "colab_type": "text"
      },
      "source": [
        "### Get pygork and tunnel it\n"
      ]
    },
    {
      "cell_type": "code",
      "metadata": {
        "id": "eGqCplRb4bvq",
        "colab_type": "code",
        "colab": {
          "base_uri": "https://localhost:8080/",
          "height": 35
        },
        "outputId": "051a229b-4fa3-4013-8ee9-8227172dc564"
      },
      "source": [
        "# create remote tunnel using ngrok.com to allow local port access\n",
        "!pip install pyngrok --quiet\n",
        "from pyngrok import ngrok\n",
        "\n",
        "# Terminate open tunnels if exist\n",
        "ngrok.kill()\n",
        "\n",
        "# Setting the authtoken (optional)\n",
        "# Get your authtoken from https://dashboard.ngrok.com/auth\n",
        "NGROK_AUTH_TOKEN = \"\"\n",
        "ngrok.set_auth_token(NGROK_AUTH_TOKEN)\n",
        "\n",
        "# Open an HTTPs tunnel on port 5000 for http://localhost:5000\n",
        "public_url = ngrok.connect(port=\"5000\", proto=\"http\", options={\"bind_tls\": True})\n",
        "print(\"MLflow Tracking UI:\", public_url)"
      ],
      "execution_count": 12,
      "outputs": [
        {
          "output_type": "stream",
          "text": [
            "MLflow Tracking UI: https://e4430b22af8b.ngrok.io\n"
          ],
          "name": "stdout"
        }
      ]
    },
    {
      "cell_type": "markdown",
      "metadata": {
        "id": "W5_CaUr_31ql",
        "colab_type": "text"
      },
      "source": [
        ""
      ]
    }
  ]
}