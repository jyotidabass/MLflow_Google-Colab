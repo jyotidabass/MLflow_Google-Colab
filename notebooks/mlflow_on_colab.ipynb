{
  "nbformat": 4,
  "nbformat_minor": 0,
  "metadata": {
    "colab": {
      "name": "mlflow_on_colab.ipynb",
      "provenance": [],
      "authorship_tag": "ABX9TyNmuhRIyN9xN3UK4KNMDbbu",
      "include_colab_link": true
    },
    "kernelspec": {
      "name": "python3",
      "display_name": "Python 3"
    }
  },
  "cells": [
    {
      "cell_type": "markdown",
      "metadata": {
        "id": "view-in-github",
        "colab_type": "text"
      },
      "source": [
        "<a href=\"https://colab.research.google.com/github/dmatrix/google-colab/blob/master/mlflow_on_colab.ipynb\" target=\"_parent\"><img src=\"https://colab.research.google.com/assets/colab-badge.svg\" alt=\"Open In Colab\"/></a>"
      ]
    },
    {
      "cell_type": "code",
      "metadata": {
        "id": "-2qajaKpyvZW",
        "colab_type": "code",
        "colab": {}
      },
      "source": [
        "!pip install mlflow --quiet"
      ],
      "execution_count": 8,
      "outputs": []
    },
    {
      "cell_type": "code",
      "metadata": {
        "id": "qBW83qrRym9Z",
        "colab_type": "code",
        "colab": {}
      },
      "source": [
        "import os\n",
        "import shutil\n",
        "import pprint\n",
        "\n",
        "from random import random, randint\n",
        "import mlflow.sklearn\n",
        "from mlflow import log_metric, log_param, log_artifacts\n",
        "from sklearn.ensemble import RandomForestRegressor\n",
        "from mlflow.tracking import MlflowClient\n",
        "import warnings"
      ],
      "execution_count": 2,
      "outputs": []
    },
    {
      "cell_type": "code",
      "metadata": {
        "id": "TSrlV2qIzRRj",
        "colab_type": "code",
        "colab": {
          "base_uri": "https://localhost:8080/",
          "height": 35
        },
        "outputId": "9ebfed05-b2b4-471f-9bb3-10e45d41abdf"
      },
      "source": [
        "warnings.filterwarnings(\"ignore\")\n",
        "print(mlflow.__version__)"
      ],
      "execution_count": 9,
      "outputs": [
        {
          "output_type": "stream",
          "text": [
            "1.10.0\n"
          ],
          "name": "stdout"
        }
      ]
    },
    {
      "cell_type": "code",
      "metadata": {
        "id": "nnFcZQZjyfYF",
        "colab_type": "code",
        "colab": {
          "base_uri": "https://localhost:8080/",
          "height": 69
        },
        "outputId": "e6461b4b-b8f1-4558-88e0-e3483402c65d"
      },
      "source": [
        "# Set the tracking server to be localhost with sqlite as tracking store\n",
        "local_registry = \"sqlite:///mlruns.db\"\n",
        "print(f\"Running local model registry={local_registry}\")\n",
        "model_name=\"WeatherForecastModel\"\n",
        "mlflow.set_tracking_uri(local_registry)\n",
        "with mlflow.start_run(run_name=\"LOCAL_REGISTRY\") as run:\n",
        "    params = {\"n_estimators\": 3, \"random_state\": 0}\n",
        "    sk_learn_rfr = RandomForestRegressor(params)\n",
        "\n",
        "    # Log parameters and metrics using the MLflow API\n",
        "    mlflow.log_params(params)\n",
        "    log_param(\"param_1\", randint(0, 100))\n",
        "    log_metric(\"metric_1\", random())\n",
        "    log_metric(\"metric_2\", random() + 1)\n",
        "    log_metric(\"metric_33\", random() + 2)\n",
        "\n",
        "    # Log and register the model at the same time\n",
        "    mlflow.sklearn.log_model(\n",
        "                sk_model = sk_learn_rfr,\n",
        "                artifact_path = \"sklearn-model\",\n",
        "                registered_model_name=\"WeatherForecastModel\")\n",
        "    if not os.path.exists(\"outputs\"):\n",
        "        os.makedirs(\"outputs\")\n",
        "    with open(\"outputs/test.txt\", \"w\") as f:\n",
        "        f.write(\"Looks, like I logged to the local store!\")\n",
        "    log_artifacts(\"outputs\")\n",
        "    shutil.rmtree('outputs')\n",
        "    run_id = run.info.run_uuid"
      ],
      "execution_count": 10,
      "outputs": [
        {
          "output_type": "stream",
          "text": [
            "Running local model registry=sqlite:///mlruns.db\n"
          ],
          "name": "stdout"
        },
        {
          "output_type": "stream",
          "text": [
            "Registered model 'WeatherForecastModel' already exists. Creating a new version of this model...\n",
            "Created version '3' of model 'WeatherForecastModel'.\n"
          ],
          "name": "stderr"
        }
      ]
    },
    {
      "cell_type": "code",
      "metadata": {
        "id": "9XIOAdUB6LlR",
        "colab_type": "code",
        "colab": {
          "base_uri": "https://localhost:8080/",
          "height": 884
        },
        "outputId": "b44bcb9a-ba0b-431d-b760-e65858cc9cfd"
      },
      "source": [
        "client = MlflowClient()\n",
        "#\n",
        "# transition model stage to production\n",
        "#\n",
        "client.transition_model_version_stage(\n",
        "    name=model_name,\n",
        "    version=1,\n",
        "    stage=\"production\")\n",
        "\n",
        "# Get a list of all registered models\n",
        "print(\"List of all registered models\")\n",
        "print(\"=\" * 80)\n",
        "[print(pprint.pprint(dict(rm), indent=4)) for rm in client.list_registered_models()]\n",
        "\n",
        "# Get a list of specific versions of the named models\n",
        "print(f\"List of Model = {model_name} and Versions\")\n",
        "print(\"=\" * 80)\n",
        "[pprint.pprint(dict(mv), indent=4) for mv in client.search_model_versions(\"name='WeatherForecastModel'\")]\n"
      ],
      "execution_count": 11,
      "outputs": [
        {
          "output_type": "stream",
          "text": [
            "List of all registered models\n",
            "================================================================================\n",
            "{   'creation_timestamp': 1598045102538,\n",
            "    'description': None,\n",
            "    'last_updated_timestamp': 1598045373358,\n",
            "    'latest_versions': [   <ModelVersion: creation_timestamp=1598045102589, current_stage='Production', description=None, last_updated_timestamp=1598045373358, name='WeatherForecastModel', run_id='14e42a7c16fe49298afbd5ba3f346c44', source='./mlruns/0/14e42a7c16fe49298afbd5ba3f346c44/artifacts/sklearn-model', status='READY', status_message=None, tags={}, user_id=None, version=1>,\n",
            "                           <ModelVersion: creation_timestamp=1598045363554, current_stage='None', description=None, last_updated_timestamp=1598045363554, name='WeatherForecastModel', run_id='d0a6ddcc135c493da1b49a7b40f1bafa', source='./mlruns/0/d0a6ddcc135c493da1b49a7b40f1bafa/artifacts/sklearn-model', status='READY', status_message=None, tags={}, user_id=None, version=3>],\n",
            "    'name': 'WeatherForecastModel',\n",
            "    'tags': {}}\n",
            "None\n",
            "List of Model = WeatherForecastModel and Versions\n",
            "================================================================================\n",
            "{   'creation_timestamp': 1598045102589,\n",
            "    'current_stage': 'Production',\n",
            "    'description': None,\n",
            "    'last_updated_timestamp': 1598045373358,\n",
            "    'name': 'WeatherForecastModel',\n",
            "    'run_id': '14e42a7c16fe49298afbd5ba3f346c44',\n",
            "    'source': './mlruns/0/14e42a7c16fe49298afbd5ba3f346c44/artifacts/sklearn-model',\n",
            "    'status': 'READY',\n",
            "    'status_message': None,\n",
            "    'tags': {},\n",
            "    'user_id': None,\n",
            "    'version': 1}\n",
            "{   'creation_timestamp': 1598045336958,\n",
            "    'current_stage': 'None',\n",
            "    'description': None,\n",
            "    'last_updated_timestamp': 1598045336958,\n",
            "    'name': 'WeatherForecastModel',\n",
            "    'run_id': '161ab6ad0d1549029284284d094210f7',\n",
            "    'source': './mlruns/0/161ab6ad0d1549029284284d094210f7/artifacts/sklearn-model',\n",
            "    'status': 'READY',\n",
            "    'status_message': None,\n",
            "    'tags': {},\n",
            "    'user_id': None,\n",
            "    'version': 2}\n",
            "{   'creation_timestamp': 1598045363554,\n",
            "    'current_stage': 'None',\n",
            "    'description': None,\n",
            "    'last_updated_timestamp': 1598045363554,\n",
            "    'name': 'WeatherForecastModel',\n",
            "    'run_id': 'd0a6ddcc135c493da1b49a7b40f1bafa',\n",
            "    'source': './mlruns/0/d0a6ddcc135c493da1b49a7b40f1bafa/artifacts/sklearn-model',\n",
            "    'status': 'READY',\n",
            "    'status_message': None,\n",
            "    'tags': {},\n",
            "    'user_id': None,\n",
            "    'version': 3}\n"
          ],
          "name": "stdout"
        },
        {
          "output_type": "execute_result",
          "data": {
            "text/plain": [
              "[None, None, None]"
            ]
          },
          "metadata": {
            "tags": []
          },
          "execution_count": 11
        }
      ]
    },
    {
      "cell_type": "code",
      "metadata": {
        "id": "znD1BRJe6V7c",
        "colab_type": "code",
        "colab": {}
      },
      "source": [
        "# run tracking UI in the background\n",
        "get_ipython().system_raw(\"mlflow ui --backend-store-uri sqlite:///mlruns.db --port 5000 &\")# run tracking UI in the background"
      ],
      "execution_count": 12,
      "outputs": []
    },
    {
      "cell_type": "code",
      "metadata": {
        "id": "eQT8Jgkc6c_6",
        "colab_type": "code",
        "colab": {
          "base_uri": "https://localhost:8080/",
          "height": 35
        },
        "outputId": "d921834e-9ba3-4577-fe10-4fb297d71690"
      },
      "source": [
        "# create remote tunnel using ngrok.com to allow local port access\n",
        "# borrowed from https://colab.research.google.com/github/alfozan/MLflow-GBRT-demo/blob/master/MLflow-GBRT-demo.ipynb#scrollTo=4h3bKHMYUIG6\n",
        "!pip install pyngrok --quiet\n",
        "from pyngrok import ngrok\n",
        "\n",
        "# Terminate open tunnels if exist\n",
        "ngrok.kill()\n",
        "\n",
        "# Setting the authtoken (optional)\n",
        "# Get your authtoken from https://dashboard.ngrok.com/auth\n",
        "NGROK_AUTH_TOKEN = \"\"\n",
        "ngrok.set_auth_token(NGROK_AUTH_TOKEN)\n",
        "\n",
        "# Open an HTTPs tunnel on port 5000 for http://localhost:5000\n",
        "public_url = ngrok.connect(port=\"5000\", proto=\"http\", options={\"bind_tls\": True})\n",
        "print(\"MLflow Tracking UI:\", public_url)"
      ],
      "execution_count": 13,
      "outputs": [
        {
          "output_type": "stream",
          "text": [
            "MLflow Tracking UI: https://ec4fbf689552.ngrok.io\n"
          ],
          "name": "stdout"
        }
      ]
    },
    {
      "cell_type": "code",
      "metadata": {
        "id": "Nx3i5ORB65Qa",
        "colab_type": "code",
        "colab": {}
      },
      "source": [
        ""
      ],
      "execution_count": 7,
      "outputs": []
    }
  ]
}